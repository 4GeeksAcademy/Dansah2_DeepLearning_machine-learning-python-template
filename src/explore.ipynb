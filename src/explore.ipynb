{
    "cells": [
        {
            "cell_type": "markdown",
            "metadata": {},
            "source": [
                "# Explore here"
            ]
        },
        {
            "cell_type": "code",
            "execution_count": 1,
            "metadata": {},
            "outputs": [],
            "source": [
                "import os\n",
                "import zipfile\n",
                "from dotenv import load_dotenv"
            ]
        },
        {
            "cell_type": "code",
            "execution_count": null,
            "metadata": {},
            "outputs": [],
            "source": [
                "load_keys = False\n",
                "\n",
                "if load_keys:\n",
                "    # load the .env file variables\n",
                "    load_dotenv()\n",
                "\n",
                "    os.environ[\"KAGGLE_USERNAME\"] = os.getenv(\"KAGGLE_USERNAME\")\n",
                "    os.environ[\"KAGGLE_KEY\"] = os.getenv(\"KAGGLE_KEY\")\n",
                "\n",
                "    import kaggle\n",
                "    kaggle.api.authenticate()"
            ]
        },
        {
            "cell_type": "code",
            "execution_count": null,
            "metadata": {},
            "outputs": [],
            "source": [
                "\n",
                "load_docs = False\n",
                "\n",
                "if load_docs:\n",
                "    kaggle.api.competition_download_files('dogs-vs-cats', path='/workspaces/Dansah2_DeepLearning_machine-learning-python-template/data/raw')\n",
                "\n",
                "    raw_data_path = \"/workspaces/Dansah2_DeepLearning_machine-learning-python-template/data/raw/\"\n",
                "\n",
                "    train_zip = os.path.join(raw_data_path, \"train.zip\")\n",
                "    test_zip = os.path.join(raw_data_path, \"test1.zip\")\n",
                "\n",
                "    train_extract_path = os.path.join(raw_data_path, \"train\")\n",
                "    test_extract_path = os.path.join(raw_data_path, \"test\")\n",
                "\n",
                "    # Function to extract a zip file\n",
                "    def extract_zip(zip_file, extract_to):\n",
                "        with zipfile.ZipFile(zip_file, 'r') as zip_ref:\n",
                "            zip_ref.extractall(extract_to)\n",
                "\n",
                "    # Extract train and test zip files\n",
                "    extract_zip(train_zip, train_extract_path)\n",
                "    extract_zip(test_zip, test_extract_path)\n",
                "\n",
                "    os.remove(train_zip)\n",
                "    os.remove(test_zip)"
            ]
        }
    ],
    "metadata": {
        "kernelspec": {
            "display_name": ".venv",
            "language": "python",
            "name": "python3"
        },
        "language_info": {
            "codemirror_mode": {
                "name": "ipython",
                "version": 3
            },
            "file_extension": ".py",
            "mimetype": "text/x-python",
            "name": "python",
            "nbconvert_exporter": "python",
            "pygments_lexer": "ipython3",
            "version": "3.11.4"
        },
        "orig_nbformat": 4
    },
    "nbformat": 4,
    "nbformat_minor": 2
}
